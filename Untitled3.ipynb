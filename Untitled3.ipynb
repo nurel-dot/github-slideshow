{
  "nbformat": 4,
  "nbformat_minor": 0,
  "metadata": {
    "colab": {
      "name": "Untitled3.ipynb",
      "provenance": [],
      "collapsed_sections": [],
      "mount_file_id": "1VqQEFX19G2TPt_89vK-XyZxBJbk0tJCu",
      "authorship_tag": "ABX9TyMcHMEuuhUXVcbPivbkXEgs",
      "include_colab_link": true
    },
    "kernelspec": {
      "name": "python3",
      "display_name": "Python 3"
    },
    "language_info": {
      "name": "python"
    }
  },
  "cells": [
    {
      "cell_type": "markdown",
      "metadata": {
        "id": "view-in-github",
        "colab_type": "text"
      },
      "source": [
        "<a href=\"https://colab.research.google.com/github/nurel-dot/github-slideshow/blob/master/Untitled3.ipynb\" target=\"_parent\"><img src=\"https://colab.research.google.com/assets/colab-badge.svg\" alt=\"Open In Colab\"/></a>"
      ]
    },
    {
      "cell_type": "code",
      "metadata": {
        "colab": {
          "base_uri": "https://localhost:8080/"
        },
        "id": "D3P_zJMPDvl9",
        "outputId": "e68df32b-6226-454a-efe4-6d300355a06c"
      },
      "source": [
        "print(1+1)\n",
        "print(17//2)\n",
        "print(17%2)\n",
        "x=90\n",
        "x=x+1\n",
        "print(x)"
      ],
      "execution_count": 5,
      "outputs": [
        {
          "output_type": "stream",
          "text": [
            "2\n",
            "8\n",
            "1\n",
            "91\n"
          ],
          "name": "stdout"
        }
      ]
    },
    {
      "cell_type": "code",
      "metadata": {
        "colab": {
          "base_uri": "https://localhost:8080/"
        },
        "id": "_ceds47CMTcz",
        "outputId": "4f87a865-2a68-4da0-fb0f-e178085edbdc"
      },
      "source": [
        "#1\n",
        "x=9\n",
        "print(x*2)"
      ],
      "execution_count": 9,
      "outputs": [
        {
          "output_type": "stream",
          "text": [
            "18\n"
          ],
          "name": "stdout"
        }
      ]
    },
    {
      "cell_type": "code",
      "metadata": {
        "colab": {
          "base_uri": "https://localhost:8080/"
        },
        "id": "fvOHD1nLMllg",
        "outputId": "58e1d56f-0ad9-43ee-817c-e9f7922395d2"
      },
      "source": [
        "#2\n",
        "x=90\n",
        "y=95\n",
        "z=x+y\n",
        "print(x,y,z)"
      ],
      "execution_count": 12,
      "outputs": [
        {
          "output_type": "stream",
          "text": [
            "90 95 185\n"
          ],
          "name": "stdout"
        }
      ]
    },
    {
      "cell_type": "code",
      "metadata": {
        "colab": {
          "base_uri": "https://localhost:8080/"
        },
        "id": "tssDdcT-NCxX",
        "outputId": "8c959b2b-58b7-45ef-a5f7-7c6aa09dc1e6"
      },
      "source": [
        "#3\n",
        "x=0\n",
        "x=x*5\n",
        "x=x*9\n",
        "x=x*9*9*9*9\n",
        "print('x=',x)"
      ],
      "execution_count": 14,
      "outputs": [
        {
          "output_type": "stream",
          "text": [
            "x= 0\n"
          ],
          "name": "stdout"
        }
      ]
    },
    {
      "cell_type": "code",
      "metadata": {
        "colab": {
          "base_uri": "https://localhost:8080/"
        },
        "id": "uLRk-wF-Ngne",
        "outputId": "82b446d0-be0c-4e5f-b3ea-fe1b54b5be25"
      },
      "source": [
        "#4\n",
        "x='12'\n",
        "print(x+'12')\n",
        "print(x*4)"
      ],
      "execution_count": 19,
      "outputs": [
        {
          "output_type": "stream",
          "text": [
            "1212\n",
            "12121212\n"
          ],
          "name": "stdout"
        }
      ]
    },
    {
      "cell_type": "code",
      "metadata": {
        "colab": {
          "base_uri": "https://localhost:8080/"
        },
        "id": "HB50XMe3Q5kL",
        "outputId": "b4a0a948-5cf5-42b9-8db0-74bd8975ba6c"
      },
      "source": [
        "y='9'\n",
        "print(type(y))\n",
        "x=9\n",
        "print(type(x))"
      ],
      "execution_count": 22,
      "outputs": [
        {
          "output_type": "stream",
          "text": [
            "<class 'str'>\n",
            "<class 'int'>\n"
          ],
          "name": "stdout"
        }
      ]
    },
    {
      "cell_type": "code",
      "metadata": {
        "colab": {
          "base_uri": "https://localhost:8080/"
        },
        "id": "puZ5Rp2VSu60",
        "outputId": "92cd1c7c-f4c3-453d-fb04-f838b4cdd031"
      },
      "source": [
        "x='9'\n",
        "print(int(9)*5)\n",
        "print(float(y)*5)"
      ],
      "execution_count": 25,
      "outputs": [
        {
          "output_type": "stream",
          "text": [
            "45\n",
            "45.0\n"
          ],
          "name": "stdout"
        }
      ]
    },
    {
      "cell_type": "code",
      "metadata": {
        "colab": {
          "base_uri": "https://localhost:8080/"
        },
        "id": "9C4V6sUJUE-y",
        "outputId": "2fcad623-de7c-4f25-8fe2-15ba0531bb8a"
      },
      "source": [
        "f=123\n",
        "print(str(f)*2)"
      ],
      "execution_count": 27,
      "outputs": [
        {
          "output_type": "stream",
          "text": [
            "123123\n"
          ],
          "name": "stdout"
        }
      ]
    },
    {
      "cell_type": "code",
      "metadata": {
        "colab": {
          "base_uri": "https://localhost:8080/"
        },
        "id": "qKVwEEFQVBdS",
        "outputId": "4884f1a5-aaa3-4987-c825-35fce8fad308"
      },
      "source": [
        "f1=123\n",
        "f2=234\n",
        "print(f1%10+f2%10)\n"
      ],
      "execution_count": 47,
      "outputs": [
        {
          "output_type": "stream",
          "text": [
            "7\n"
          ],
          "name": "stdout"
        }
      ]
    },
    {
      "cell_type": "code",
      "metadata": {
        "colab": {
          "base_uri": "https://localhost:8080/"
        },
        "id": "lZWLoIr9Y84S",
        "outputId": "4bd83846-0d98-488c-f4f6-72c43d456e79"
      },
      "source": [
        "x=1234\n",
        "print(x)\n",
        "x=x//10\n",
        "print(x)\n",
        "x=x//10\n",
        "print(x)\n",
        "x=x//10\n",
        "print(x)"
      ],
      "execution_count": 63,
      "outputs": [
        {
          "output_type": "stream",
          "text": [
            "1234\n",
            "123\n",
            "12\n",
            "1\n"
          ],
          "name": "stdout"
        }
      ]
    },
    {
      "cell_type": "code",
      "metadata": {
        "colab": {
          "base_uri": "https://localhost:8080/"
        },
        "id": "iVEJsGnBki6_",
        "outputId": "7970076c-f66c-4c5f-b71b-f7de736d9ce7"
      },
      "source": [
        "x1=123.58\n",
        "x2=int(x1)\n",
        "print(x2)\n",
        "print(x1-x2)"
      ],
      "execution_count": 67,
      "outputs": [
        {
          "output_type": "stream",
          "text": [
            "123\n",
            "0.5799999999999983\n"
          ],
          "name": "stdout"
        }
      ]
    },
    {
      "cell_type": "code",
      "metadata": {
        "colab": {
          "base_uri": "https://localhost:8080/"
        },
        "id": "_RJbEaPjlGkW",
        "outputId": "719b21f7-0f65-40b8-cea2-627db14f3532"
      },
      "source": [
        "x1=123.58\n",
        "x=x1//1\n",
        "x1=x1-x\n",
        "print(x1)\n"
      ],
      "execution_count": 75,
      "outputs": [
        {
          "output_type": "stream",
          "text": [
            "0.5799999999999983\n"
          ],
          "name": "stdout"
        }
      ]
    },
    {
      "cell_type": "code",
      "metadata": {
        "colab": {
          "base_uri": "https://localhost:8080/"
        },
        "id": "-qbiXcsZmpBg",
        "outputId": "f0612201-8a5e-4b14-94d3-596fe83463ec"
      },
      "source": [
        "x1=123.58\n",
        "print(x1%1)"
      ],
      "execution_count": 77,
      "outputs": [
        {
          "output_type": "stream",
          "text": [
            "0.5799999999999983\n"
          ],
          "name": "stdout"
        }
      ]
    },
    {
      "cell_type": "code",
      "metadata": {
        "colab": {
          "base_uri": "https://localhost:8080/"
        },
        "id": "OMYT_A-pqmdO",
        "outputId": "1c2bd3f8-5671-4db6-b1aa-844688d77cb7"
      },
      "source": [
        "x=9;y=18\n",
        "print(f'before:x={x} y={y}')\n",
        "temp=x #temp=9,x=9,y=18\n",
        "x=y #temp=9,y=18,x=18\n",
        "y=temp #temp=9,x=18'y=9\n",
        "print(f'after:x={x} y={y}')"
      ],
      "execution_count": 84,
      "outputs": [
        {
          "output_type": "stream",
          "text": [
            "before:x=9 y=18\n",
            "after:x=18 y=9\n"
          ],
          "name": "stdout"
        }
      ]
    },
    {
      "cell_type": "code",
      "metadata": {
        "colab": {
          "base_uri": "https://localhost:8080/"
        },
        "id": "b8nhMANbvy5b",
        "outputId": "6e19aad1-7cdc-4c8e-994d-b8c10ad75d36"
      },
      "source": [
        "x=9;y=18\n",
        "print(f'before:x={x} y={y}')\n",
        "x,y=y,x\n",
        "print(f'after:x={x} y={y}')"
      ],
      "execution_count": 86,
      "outputs": [
        {
          "output_type": "stream",
          "text": [
            "before:x=9 y=18\n",
            "after:x=18 y=9\n"
          ],
          "name": "stdout"
        }
      ]
    },
    {
      "cell_type": "code",
      "metadata": {
        "colab": {
          "base_uri": "https://localhost:8080/"
        },
        "id": "ykAWpDgows9x",
        "outputId": "4012c2f7-5b43-45fd-b5a3-629d7d501034"
      },
      "source": [
        "#החלפה ללא משתה עזר או פייתון \n",
        "x=9;y=18\n",
        "print(f'before:x={x} y={y}')\n",
        "x=x+y #x=18+9=27\n",
        "y=x-y #y=27-18=9\n",
        "x=x-y #x=27-9=18\n",
        "print(f'after:x={x} y={y}')"
      ],
      "execution_count": 89,
      "outputs": [
        {
          "output_type": "stream",
          "text": [
            "before:x=9 y=18\n",
            "after:x=18 y=9\n"
          ],
          "name": "stdout"
        }
      ]
    },
    {
      "cell_type": "code",
      "metadata": {
        "colab": {
          "base_uri": "https://localhost:8080/"
        },
        "id": "1grSJw8_yP85",
        "outputId": "c06a2ee0-5568-4af0-d4a2-565f61a0e960"
      },
      "source": [
        "x=9;y=18\n",
        "print(f'before:x={x} y={y}')\n",
        "x=x*y\n",
        "y=x/y\n",
        "x=x/y\n",
        "print(f'after:x={x} y={y}')"
      ],
      "execution_count": 91,
      "outputs": [
        {
          "output_type": "stream",
          "text": [
            "before:x=9 y=18\n",
            "after:x=18.0 y=9.0\n"
          ],
          "name": "stdout"
        }
      ]
    },
    {
      "cell_type": "code",
      "metadata": {
        "id": "R4GUNHddyssm"
      },
      "source": [
        ""
      ],
      "execution_count": null,
      "outputs": []
    }
  ]
}