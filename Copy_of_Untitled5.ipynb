{
  "nbformat": 4,
  "nbformat_minor": 0,
  "metadata": {
    "colab": {
      "name": "Copy of Untitled5.ipynb",
      "provenance": [],
      "collapsed_sections": [],
      "authorship_tag": "ABX9TyMC508cb93xypArRqEwxJdE",
      "include_colab_link": true
    },
    "kernelspec": {
      "name": "python3",
      "display_name": "Python 3"
    },
    "language_info": {
      "name": "python"
    }
  },
  "cells": [
    {
      "cell_type": "markdown",
      "metadata": {
        "id": "view-in-github",
        "colab_type": "text"
      },
      "source": [
        "<a href=\"https://colab.research.google.com/github/nurel-dot/github-slideshow/blob/master/Copy_of_Untitled5.ipynb\" target=\"_parent\"><img src=\"https://colab.research.google.com/assets/colab-badge.svg\" alt=\"Open In Colab\"/></a>"
      ]
    },
    {
      "cell_type": "code",
      "metadata": {
        "id": "cyZf8VU0C4AN"
      },
      "source": [
        "#ספריות בפייתון "
      ],
      "execution_count": null,
      "outputs": []
    },
    {
      "cell_type": "code",
      "metadata": {
        "id": "ANPaFJ1pC83L"
      },
      "source": [
        "import random as r\n",
        "import math as m \n"
      ],
      "execution_count": null,
      "outputs": []
    },
    {
      "cell_type": "code",
      "metadata": {
        "colab": {
          "base_uri": "https://localhost:8080/"
        },
        "id": "-jykvTvEDF-t",
        "outputId": "f6744074-7233-48ce-f38e-ce9589e57db3"
      },
      "source": [
        "x1=r.randint(1,100)\n",
        "x2=r.randint(1,100)\n",
        "x3=r.randint(1,100)\n",
        "Themax=max(x1,x2,x3)\n",
        "print(f'x1={x1} x2={x2} x3={x3} \\nResult The max is: {Themax} ')"
      ],
      "execution_count": null,
      "outputs": [
        {
          "output_type": "stream",
          "text": [
            "x1=16 x2=88 x3=51 \n",
            "Result The max is: 88 \n"
          ],
          "name": "stdout"
        }
      ]
    },
    {
      "cell_type": "code",
      "metadata": {
        "colab": {
          "base_uri": "https://localhost:8080/"
        },
        "id": "RtvYljlYIxO-",
        "outputId": "a4a6e0b0-5f59-46fe-f716-4559c6a6777a"
      },
      "source": [
        "Area=m.pi*25**2\n",
        "print(f'Area={Area}\\n result is:{Area}')"
      ],
      "execution_count": null,
      "outputs": [
        {
          "output_type": "stream",
          "text": [
            "Area=1963.4954084936207\n",
            " result is:1963.4954084936207\n"
          ],
          "name": "stdout"
        }
      ]
    },
    {
      "cell_type": "code",
      "metadata": {
        "id": "DdpGUkOfKBUb"
      },
      "source": [
        ""
      ],
      "execution_count": null,
      "outputs": []
    }
  ]
}